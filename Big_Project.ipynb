{
 "cells": [
  {
   "cell_type": "code",
   "execution_count": 1,
   "id": "fantastic-subscriber",
   "metadata": {},
   "outputs": [],
   "source": [
    "# importing libraries\n",
    "import torch , torchvision\n",
    "from torch.utils.data import Dataset, DataLoader\n",
    "import torch.nn as nn\n",
    "import torch.optim as optim\n",
    "import torch.nn.functional as F\n",
    "from torchvision import transforms\n",
    "import time\n",
    "from collections import OrderedDict\n",
    "from torchvision import models\n",
    "import pytz\n",
    "from datetime import datetime\n",
    "import os\n",
    "import matplotlib.pyplot as plt\n",
    "\n",
    "# importing custom datasets, custom models, util functions\n",
    "from model import CnnGru, train_arousal, train_valence\n",
    "from custom_dataset import Train_Dataset, Valid_Dataset, Test_Dataset\n",
    "from utils import predict_video, plot_curves, save_model, load_model\n",
    "\n",
    "import warnings\n",
    "warnings.filterwarnings('ignore')"
   ]
  },
  {
   "cell_type": "code",
   "execution_count": 2,
   "id": "differential-virus",
   "metadata": {},
   "outputs": [],
   "source": [
    "# video paths\n",
    "video_trim_train= r'C:\\Users\\jeroe\\Documents\\DeepLearning\\Big_Project\\data\\video\\train_trim'\n",
    "video_trim_val=r'C:\\Users\\jeroe\\Documents\\DeepLearning\\Big_Project\\data\\video\\valid_trim'\n",
    "video_trim_test=r'C:\\Users\\jeroe\\Documents\\DeepLearning\\Big_Project\\data\\video\\test_trim'\n",
    "\n",
    "# valence and arousal model weights path\n",
    "arousal_path = r'C:\\Users\\jeroe\\Documents\\DeepLearning\\Big_Project\\saved_weights\\arousal.pth'\n",
    "valence_path = r'C:\\Users\\jeroe\\Documents\\DeepLearning\\Big_Project\\saved_weights\\valence.pth'"
   ]
  },
  {
   "cell_type": "markdown",
   "id": "continued-gazette",
   "metadata": {},
   "source": [
    "### Visualising Data Distribution"
   ]
  },
  {
   "cell_type": "code",
   "execution_count": 3,
   "id": "reliable-rehabilitation",
   "metadata": {},
   "outputs": [
    {
     "data": {
      "image/png": "[encoded data removed]",
      "text/plain": [
       "<Figure size 432x288 with 1 Axes>"
      ]
     },
     "metadata": {
      "needs_background": "light"
     },
     "output_type": "display_data"
    }
   ],
   "source": [
    "train_data = len(os.listdir(video_trim_train))\n",
    "valid_data = len(os.listdir(video_trim_val))\n",
    "test_data = len(os.listdir(video_trim_test))\n",
    "\n",
    "fig = plt.figure()\n",
    "ax = fig.add_axes([0,0,1,1])\n",
    "dataset = ['training data','validation data','testing data']\n",
    "distribution = [train_data,valid_data,test_data]\n",
    "plt.text(x=-0.1,y=distribution[0] +2 ,s = distribution[0],size = 10)\n",
    "plt.text(x=0.95,y=distribution[1] +2,s = distribution[1],size = 10)\n",
    "plt.text(x=1.95,y=distribution[2] +2,s = distribution[2],size = 10)\n",
    "ax.bar(dataset,distribution)\n",
    "ax.set_ylabel('Count')\n",
    "ax.set_title('Data distribution')\n",
    "plt.show()"
   ]
  },
  {
   "cell_type": "code",
   "execution_count": 4,
   "id": "wanted-binding",
   "metadata": {},
   "outputs": [],
   "source": [
    "# Hyperparameters\n",
    "features = 64\n",
    "num_layers = 10 # the sequence \n",
    "hidden_size = 32\n",
    "batch_size = 8\n",
    "lr = 0.001\n",
    "epoch = 5\n",
    "arousal_name = 'arousal model'\n",
    "valence_name = 'valence model'\n",
    "device = 'cuda'\n",
    "arousal_path = r'C:\\Users\\jeroe\\Documents\\DeepLearning\\Big_Project\\saved_weights\\arousal.pth'\n",
    "valence_path = r'C:\\Users\\jeroe\\Documents\\DeepLearning\\Big_Project\\saved_weights\\valence.pth'"
   ]
  },
  {
   "cell_type": "markdown",
   "id": "registered-hollywood",
   "metadata": {},
   "source": [
    "### Initialising custom dataset and dataloader for train, valid, test"
   ]
  },
  {
   "cell_type": "code",
   "execution_count": 5,
   "id": "stock-richardson",
   "metadata": {},
   "outputs": [],
   "source": [
    "batch_size = 8\n",
    "\n",
    "train_dataset = Train_Dataset()\n",
    "valid_dataset = Valid_Dataset()\n",
    "test_dataset = Test_Dataset()\n",
    "\n",
    "train_loader = DataLoader(train_dataset, batch_size = batch_size, shuffle = True)\n",
    "test_loader = DataLoader(test_dataset, batch_size = batch_size, shuffle = True)\n",
    "val_loader = DataLoader(valid_dataset, batch_size = batch_size, shuffle = True)\n",
    "print_every = len(train_loader)"
   ]
  },
  {
   "cell_type": "code",
   "execution_count": 6,
   "id": "detailed-potter",
   "metadata": {},
   "outputs": [],
   "source": [
    "model_arousal = CnnGru(features,num_layers,hidden_size,batch_size)\n",
    "model_valence = CnnGru(features,num_layers,hidden_size,batch_size)"
   ]
  },
  {
   "cell_type": "code",
   "execution_count": 7,
   "id": "essential-polymer",
   "metadata": {
    "scrolled": true
   },
   "outputs": [
    {
     "name": "stdout",
     "output_type": "stream",
     "text": [
      "start training arousal model.....\n",
      "total epochs: 5\n",
      "epoch:1 batch:1\n",
      "epoch:1 batch:2\n",
      "epoch:1 batch:3\n",
      "epoch:1 batch:4\n",
      "epoch:1 batch:5\n",
      "epoch:1 batch:6\n",
      "epoch:1 batch:7\n",
      "epoch:1 batch:8\n",
      "epoch:1 batch:9\n",
      "epoch:1 batch:10\n",
      "epoch:1 batch:11\n",
      "epoch:1 batch:12\n",
      "epoch:1 batch:13\n",
      "epoch:1 batch:14\n",
      "epoch:1 batch:15\n",
      "epoch:1 batch:16\n",
      "epoch:1 batch:17\n",
      "epoch:1 batch:18\n",
      "epoch:1 batch:19\n",
      "epoch:1 batch:20\n",
      "epoch:1 batch:21\n",
      "epoch:1 batch:22\n",
      "epoch:1 batch:23\n",
      "epoch:1 batch:24\n",
      "epoch:1 batch:25\n",
      "Epoch: 1/5 -  Time: 2021-05-03 22:33:01.754413+08:00  Training Loss: 0.116 -  Validation Loss: 0.050 - \n",
      "epoch:2 batch:1\n",
      "epoch:2 batch:2\n",
      "epoch:2 batch:3\n",
      "epoch:2 batch:4\n",
      "epoch:2 batch:5\n",
      "epoch:2 batch:6\n",
      "epoch:2 batch:7\n",
      "epoch:2 batch:8\n",
      "epoch:2 batch:9\n",
      "epoch:2 batch:10\n",
      "epoch:2 batch:11\n",
      "epoch:2 batch:12\n",
      "epoch:2 batch:13\n",
      "epoch:2 batch:14\n",
      "epoch:2 batch:15\n",
      "epoch:2 batch:16\n",
      "epoch:2 batch:17\n",
      "epoch:2 batch:18\n",
      "epoch:2 batch:19\n",
      "epoch:2 batch:20\n",
      "epoch:2 batch:21\n",
      "epoch:2 batch:22\n",
      "epoch:2 batch:23\n",
      "epoch:2 batch:24\n",
      "epoch:2 batch:25\n",
      "Epoch: 2/5 -  Time: 2021-05-03 22:39:43.417962+08:00  Training Loss: 0.072 -  Validation Loss: 0.044 - \n",
      "epoch:3 batch:1\n",
      "epoch:3 batch:2\n",
      "epoch:3 batch:3\n",
      "epoch:3 batch:4\n",
      "epoch:3 batch:5\n",
      "epoch:3 batch:6\n",
      "epoch:3 batch:7\n",
      "epoch:3 batch:8\n",
      "epoch:3 batch:9\n",
      "epoch:3 batch:10\n",
      "epoch:3 batch:11\n",
      "epoch:3 batch:12\n",
      "epoch:3 batch:13\n",
      "epoch:3 batch:14\n",
      "epoch:3 batch:15\n",
      "epoch:3 batch:16\n",
      "epoch:3 batch:17\n",
      "epoch:3 batch:18\n",
      "epoch:3 batch:19\n",
      "epoch:3 batch:20\n",
      "epoch:3 batch:21\n",
      "epoch:3 batch:22\n",
      "epoch:3 batch:23\n",
      "epoch:3 batch:24\n",
      "epoch:3 batch:25\n",
      "Epoch: 3/5 -  Time: 2021-05-03 22:46:19.754503+08:00  Training Loss: 0.072 -  Validation Loss: 0.044 - \n",
      "epoch:4 batch:1\n",
      "epoch:4 batch:2\n",
      "epoch:4 batch:3\n",
      "epoch:4 batch:4\n",
      "epoch:4 batch:5\n",
      "epoch:4 batch:6\n",
      "epoch:4 batch:7\n",
      "epoch:4 batch:8\n",
      "epoch:4 batch:9\n",
      "epoch:4 batch:10\n",
      "epoch:4 batch:11\n",
      "epoch:4 batch:12\n",
      "epoch:4 batch:13\n",
      "epoch:4 batch:14\n",
      "epoch:4 batch:15\n",
      "epoch:4 batch:16\n",
      "epoch:4 batch:17\n",
      "epoch:4 batch:18\n",
      "epoch:4 batch:19\n",
      "epoch:4 batch:20\n",
      "epoch:4 batch:21\n",
      "epoch:4 batch:22\n",
      "epoch:4 batch:23\n",
      "epoch:4 batch:24\n",
      "epoch:4 batch:25\n",
      "Epoch: 4/5 -  Time: 2021-05-03 22:52:48.964391+08:00  Training Loss: 0.077 -  Validation Loss: 0.034 - \n",
      "epoch:5 batch:1\n",
      "epoch:5 batch:2\n",
      "epoch:5 batch:3\n",
      "epoch:5 batch:4\n",
      "epoch:5 batch:5\n",
      "epoch:5 batch:6\n",
      "epoch:5 batch:7\n",
      "epoch:5 batch:8\n",
      "epoch:5 batch:9\n",
      "epoch:5 batch:10\n",
      "epoch:5 batch:11\n",
      "epoch:5 batch:12\n",
      "epoch:5 batch:13\n",
      "epoch:5 batch:14\n",
      "epoch:5 batch:15\n",
      "epoch:5 batch:16\n",
      "epoch:5 batch:17\n",
      "epoch:5 batch:18\n",
      "epoch:5 batch:19\n",
      "epoch:5 batch:20\n",
      "epoch:5 batch:21\n",
      "epoch:5 batch:22\n",
      "epoch:5 batch:23\n",
      "epoch:5 batch:24\n",
      "epoch:5 batch:25\n",
      "Epoch: 5/5 -  Time: 2021-05-03 22:59:05.347010+08:00  Training Loss: 0.073 -  Validation Loss: 0.040 - \n",
      "model: arousal - epochs: 5\n",
      "Run time: 32.911 min\n"
     ]
    }
   ],
   "source": [
    "arousal_model, train_loss_arousal, val_loss_arousal = train_arousal(model=model_arousal,train_loader=train_loader,val_loader=val_loader, n_epochs=epoch,lr=lr, save_path=arousal_path)"
   ]
  },
  {
   "cell_type": "code",
   "execution_count": 10,
   "id": "incorporated-gasoline",
   "metadata": {},
   "outputs": [
    {
     "name": "stdout",
     "output_type": "stream",
     "text": [
      "start training valence model.....\n",
      "total epochs: 5\n",
      "epoch:1 batch:1\n",
      "epoch:1 batch:2\n",
      "epoch:1 batch:3\n",
      "epoch:1 batch:4\n",
      "epoch:1 batch:5\n",
      "epoch:1 batch:6\n",
      "epoch:1 batch:7\n",
      "epoch:1 batch:8\n",
      "epoch:1 batch:9\n",
      "epoch:1 batch:10\n",
      "epoch:1 batch:11\n",
      "epoch:1 batch:12\n",
      "epoch:1 batch:13\n",
      "epoch:1 batch:14\n",
      "epoch:1 batch:15\n",
      "epoch:1 batch:16\n",
      "epoch:1 batch:17\n",
      "epoch:1 batch:18\n",
      "epoch:1 batch:19\n",
      "epoch:1 batch:20\n",
      "epoch:1 batch:21\n",
      "epoch:1 batch:22\n",
      "epoch:1 batch:23\n",
      "epoch:1 batch:24\n",
      "epoch:1 batch:25\n",
      "Epoch: 1/5 -  Time: 2021-05-03 23:06:38.746980+08:00  Training Loss: 0.061 -  Validation Loss: 0.029 - \n",
      "epoch:2 batch:1\n",
      "epoch:2 batch:2\n",
      "epoch:2 batch:3\n",
      "epoch:2 batch:4\n",
      "epoch:2 batch:5\n",
      "epoch:2 batch:6\n",
      "epoch:2 batch:7\n",
      "epoch:2 batch:8\n",
      "epoch:2 batch:9\n",
      "epoch:2 batch:10\n",
      "epoch:2 batch:11\n",
      "epoch:2 batch:12\n",
      "epoch:2 batch:13\n",
      "epoch:2 batch:14\n",
      "epoch:2 batch:15\n",
      "epoch:2 batch:16\n",
      "epoch:2 batch:17\n",
      "epoch:2 batch:18\n",
      "epoch:2 batch:19\n",
      "epoch:2 batch:20\n",
      "epoch:2 batch:21\n",
      "epoch:2 batch:22\n",
      "epoch:2 batch:23\n",
      "epoch:2 batch:24\n",
      "epoch:2 batch:25\n",
      "Epoch: 2/5 -  Time: 2021-05-03 23:12:48.378829+08:00  Training Loss: 0.049 -  Validation Loss: 0.029 - \n",
      "epoch:3 batch:1\n",
      "epoch:3 batch:2\n",
      "epoch:3 batch:3\n",
      "epoch:3 batch:4\n",
      "epoch:3 batch:5\n",
      "epoch:3 batch:6\n",
      "epoch:3 batch:7\n",
      "epoch:3 batch:8\n",
      "epoch:3 batch:9\n",
      "epoch:3 batch:10\n",
      "epoch:3 batch:11\n",
      "epoch:3 batch:12\n",
      "epoch:3 batch:13\n",
      "epoch:3 batch:14\n",
      "epoch:3 batch:15\n",
      "epoch:3 batch:16\n",
      "epoch:3 batch:17\n",
      "epoch:3 batch:18\n",
      "epoch:3 batch:19\n",
      "epoch:3 batch:20\n",
      "epoch:3 batch:21\n",
      "epoch:3 batch:22\n",
      "epoch:3 batch:23\n",
      "epoch:3 batch:24\n",
      "epoch:3 batch:25\n",
      "Epoch: 3/5 -  Time: 2021-05-03 23:19:08.759366+08:00  Training Loss: 0.046 -  Validation Loss: 0.040 - \n",
      "epoch:4 batch:1\n",
      "epoch:4 batch:2\n",
      "epoch:4 batch:3\n",
      "epoch:4 batch:4\n",
      "epoch:4 batch:5\n",
      "epoch:4 batch:6\n",
      "epoch:4 batch:7\n",
      "epoch:4 batch:8\n",
      "epoch:4 batch:9\n",
      "epoch:4 batch:10\n",
      "epoch:4 batch:11\n",
      "epoch:4 batch:12\n",
      "epoch:4 batch:13\n",
      "epoch:4 batch:14\n",
      "epoch:4 batch:15\n",
      "epoch:4 batch:16\n",
      "epoch:4 batch:17\n",
      "epoch:4 batch:18\n",
      "epoch:4 batch:19\n",
      "epoch:4 batch:20\n",
      "epoch:4 batch:21\n",
      "epoch:4 batch:22\n",
      "epoch:4 batch:23\n",
      "epoch:4 batch:24\n",
      "epoch:4 batch:25\n",
      "Epoch: 4/5 -  Time: 2021-05-03 23:26:01.026385+08:00  Training Loss: 0.047 -  Validation Loss: 0.033 - \n",
      "epoch:5 batch:1\n",
      "epoch:5 batch:2\n",
      "epoch:5 batch:3\n",
      "epoch:5 batch:4\n",
      "epoch:5 batch:5\n",
      "epoch:5 batch:6\n",
      "epoch:5 batch:7\n",
      "epoch:5 batch:8\n",
      "epoch:5 batch:9\n",
      "epoch:5 batch:10\n",
      "epoch:5 batch:11\n",
      "epoch:5 batch:12\n",
      "epoch:5 batch:13\n",
      "epoch:5 batch:14\n",
      "epoch:5 batch:15\n",
      "epoch:5 batch:16\n",
      "epoch:5 batch:17\n",
      "epoch:5 batch:18\n",
      "epoch:5 batch:19\n",
      "epoch:5 batch:20\n",
      "epoch:5 batch:21\n",
      "epoch:5 batch:22\n",
      "epoch:5 batch:23\n",
      "epoch:5 batch:24\n",
      "epoch:5 batch:25\n",
      "Epoch: 5/5 -  Time: 2021-05-03 23:32:51.658625+08:00  Training Loss: 0.048 -  Validation Loss: 0.028 - \n",
      "model: valence - epochs: 5\n",
      "Run time: 32.564 min\n"
     ]
    }
   ],
   "source": [
    "valence_model, train_loss_valence, val_loss_valence = train_valence(model=model_valence,train_loader=train_loader,val_loader=val_loader, n_epochs=epoch,lr=lr, save_path=valence_path)"
   ]
  },
  {
   "cell_type": "code",
   "execution_count": 9,
   "id": "passive-proposal",
   "metadata": {},
   "outputs": [
    {
     "data": {
      "image/png": "[encoded data removed]",
      "text/plain": [
       "<Figure size 432x288 with 1 Axes>"
      ]
     },
     "metadata": {
      "needs_background": "light"
     },
     "output_type": "display_data"
    }
   ],
   "source": [
    "plot_curves(arousal_name,epoch,train_loss_arousal,val_loss_arousal)"
   ]
  },
  {
   "cell_type": "code",
   "execution_count": 11,
   "id": "lasting-center",
   "metadata": {
    "scrolled": true
   },
   "outputs": [
    {
     "data": {
      "image/png": "[encoded data removed]",
      "text/plain": [
       "<Figure size 432x288 with 1 Axes>"
      ]
     },
     "metadata": {
      "needs_background": "light"
     },
     "output_type": "display_data"
    }
   ],
   "source": [
    "plot_curves(valence_name,epoch,train_loss_valence,val_loss_valence)"
   ]
  },
  {
   "cell_type": "code",
   "execution_count": null,
   "id": "handy-philip",
   "metadata": {},
   "outputs": [],
   "source": [
    "# reloading model from local path \n",
    "return_model_arousal = load_model(CnnGru(features,num_layers,hidden_size,batch_size),path=arousal_path).to(device)\n",
    "return_model_valence = load_model(CnnGru(features,num_layers,hidden_size,batch_size),path=valence_path).to(device)"
   ]
  }
 ],
 "metadata": {
  "kernelspec": {
   "display_name": "Python 3",
   "language": "python",
   "name": "python3"
  },
  "language_info": {
   "codemirror_mode": {
    "name": "ipython",
    "version": 3
   },
   "file_extension": ".py",
   "mimetype": "text/x-python",
   "name": "python",
   "nbconvert_exporter": "python",
   "pygments_lexer": "ipython3",
   "version": "3.8.6"
  }
 },
 "nbformat": 4,
 "nbformat_minor": 5
}
