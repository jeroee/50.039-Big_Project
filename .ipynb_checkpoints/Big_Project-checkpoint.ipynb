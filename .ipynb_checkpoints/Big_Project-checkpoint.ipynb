{
 "cells": [
  {
   "cell_type": "code",
   "execution_count": 2,
   "id": "fantastic-subscriber",
   "metadata": {},
   "outputs": [
    {
     "ename": "ImportError",
     "evalue": "cannot import name 'validation' from 'utils' (C:\\Users\\jeroe\\Documents\\DeepLearning\\Big_Project\\utils.py)",
     "output_type": "error",
     "traceback": [
      "\u001b[1;31m---------------------------------------------------------------------------\u001b[0m",
      "\u001b[1;31mImportError\u001b[0m                               Traceback (most recent call last)",
      "\u001b[1;32m<ipython-input-2-627849e01f34>\u001b[0m in \u001b[0;36m<module>\u001b[1;34m\u001b[0m\n\u001b[0;32m     11\u001b[0m \u001b[1;32mfrom\u001b[0m \u001b[0mdatetime\u001b[0m \u001b[1;32mimport\u001b[0m \u001b[0mdatetime\u001b[0m\u001b[1;33m\u001b[0m\u001b[1;33m\u001b[0m\u001b[0m\n\u001b[0;32m     12\u001b[0m \u001b[1;33m\u001b[0m\u001b[0m\n\u001b[1;32m---> 13\u001b[1;33m \u001b[1;32mfrom\u001b[0m \u001b[0mmodel\u001b[0m \u001b[1;32mimport\u001b[0m \u001b[0mCnnGru\u001b[0m\u001b[1;33m,\u001b[0m \u001b[0mtrain_arousal\u001b[0m\u001b[1;33m,\u001b[0m \u001b[0mtrain_valence\u001b[0m\u001b[1;33m\u001b[0m\u001b[1;33m\u001b[0m\u001b[0m\n\u001b[0m\u001b[0;32m     14\u001b[0m \u001b[1;32mfrom\u001b[0m \u001b[0mcustom_dataset\u001b[0m \u001b[1;32mimport\u001b[0m \u001b[0mTrain_Dataset\u001b[0m\u001b[1;33m,\u001b[0m \u001b[0mValid_Dataset\u001b[0m\u001b[1;33m,\u001b[0m \u001b[0mTest_Dataset\u001b[0m\u001b[1;33m\u001b[0m\u001b[1;33m\u001b[0m\u001b[0m\n\u001b[0;32m     15\u001b[0m \u001b[1;32mfrom\u001b[0m \u001b[0mutils\u001b[0m \u001b[1;32mimport\u001b[0m \u001b[0mpredict_video\u001b[0m\u001b[1;33m,\u001b[0m \u001b[0mplot_curves\u001b[0m\u001b[1;33m,\u001b[0m \u001b[0msave_model\u001b[0m\u001b[1;33m,\u001b[0m \u001b[0mload_model\u001b[0m\u001b[1;33m,\u001b[0m \u001b[0mvalidation\u001b[0m\u001b[1;33m\u001b[0m\u001b[1;33m\u001b[0m\u001b[0m\n",
      "\u001b[1;32m~\\Documents\\DeepLearning\\Big_Project\\model.py\u001b[0m in \u001b[0;36m<module>\u001b[1;34m\u001b[0m\n\u001b[0;32m     11\u001b[0m \u001b[1;33m\u001b[0m\u001b[0m\n\u001b[0;32m     12\u001b[0m \u001b[1;32mfrom\u001b[0m \u001b[0mcustom_dataset\u001b[0m \u001b[1;32mimport\u001b[0m \u001b[0mTrain_Dataset\u001b[0m\u001b[1;33m,\u001b[0m \u001b[0mValid_Dataset\u001b[0m\u001b[1;33m,\u001b[0m \u001b[0mTest_Dataset\u001b[0m\u001b[1;33m\u001b[0m\u001b[1;33m\u001b[0m\u001b[0m\n\u001b[1;32m---> 13\u001b[1;33m \u001b[1;32mfrom\u001b[0m \u001b[0mutils\u001b[0m \u001b[1;32mimport\u001b[0m \u001b[0mpredict_video\u001b[0m\u001b[1;33m,\u001b[0m \u001b[0mplot_curves\u001b[0m\u001b[1;33m,\u001b[0m \u001b[0msave_model\u001b[0m\u001b[1;33m,\u001b[0m\u001b[0mload_model\u001b[0m\u001b[1;33m,\u001b[0m \u001b[0mvalidation\u001b[0m\u001b[1;33m\u001b[0m\u001b[1;33m\u001b[0m\u001b[0m\n\u001b[0m\u001b[0;32m     14\u001b[0m \u001b[1;33m\u001b[0m\u001b[0m\n\u001b[0;32m     15\u001b[0m \u001b[1;32mclass\u001b[0m \u001b[0mCnnGru\u001b[0m\u001b[1;33m(\u001b[0m\u001b[0mnn\u001b[0m\u001b[1;33m.\u001b[0m\u001b[0mModule\u001b[0m\u001b[1;33m)\u001b[0m\u001b[1;33m:\u001b[0m\u001b[1;33m\u001b[0m\u001b[1;33m\u001b[0m\u001b[0m\n",
      "\u001b[1;31mImportError\u001b[0m: cannot import name 'validation' from 'utils' (C:\\Users\\jeroe\\Documents\\DeepLearning\\Big_Project\\utils.py)"
     ]
    }
   ],
   "source": [
    "import torch , torchvision\n",
    "from torch.utils.data import Dataset, DataLoader\n",
    "import torch.nn as nn\n",
    "import torch.optim as optim\n",
    "import torch.nn.functional as F\n",
    "from torchvision import transforms\n",
    "import time\n",
    "from collections import OrderedDict\n",
    "from torchvision import models\n",
    "import pytz\n",
    "from datetime import datetime\n",
    "\n",
    "from model import CnnGru, train_arousal, train_valence\n",
    "from custom_dataset import Train_Dataset, Valid_Dataset, Test_Dataset\n",
    "from utils import predict_video, plot_curves, save_model, load_model\n",
    "\n",
    "import warnings\n",
    "warnings.filterwarnings('ignore')"
   ]
  },
  {
   "cell_type": "code",
   "execution_count": 9,
   "id": "wanted-binding",
   "metadata": {},
   "outputs": [],
   "source": [
    "# Hyperparameters\n",
    "features = 64\n",
    "num_layers = 10 # the sequence \n",
    "hidden_size = 32\n",
    "batch_size = 8\n",
    "lr = 0.001\n",
    "epoch = 5\n",
    "arousal_name = 'arousal model'\n",
    "valence_name = 'valence model'\n",
    "device = 'cuda'\n",
    "arousal_path = r'C:\\Users\\jeroe\\Documents\\DeepLearning\\Big_Project\\saved_weights\\arousal.pth'\n",
    "valence_path = r'C:\\Users\\jeroe\\Documents\\DeepLearning\\Big_Project\\saved_weights\\valence.pth'"
   ]
  },
  {
   "cell_type": "code",
   "execution_count": 10,
   "id": "stock-richardson",
   "metadata": {},
   "outputs": [],
   "source": [
    "batch_size = 8\n",
    "\n",
    "train_dataset = Train_Dataset()\n",
    "valid_dataset = Valid_Dataset()\n",
    "test_dataset = Test_Dataset()\n",
    "\n",
    "train_loader = DataLoader(train_dataset, batch_size = batch_size, shuffle = True)\n",
    "test_loader = DataLoader(test_dataset, batch_size = batch_size, shuffle = True)\n",
    "val_loader = DataLoader(valid_dataset, batch_size = batch_size, shuffle = True)\n",
    "print_every = len(train_loader)"
   ]
  },
  {
   "cell_type": "code",
   "execution_count": 11,
   "id": "detailed-potter",
   "metadata": {},
   "outputs": [],
   "source": [
    "model_arousal = CnnGru(features,num_layers,hidden_size,batch_size)\n",
    "model_valence = CnnGru(features,num_layers,hidden_size,batch_size)"
   ]
  },
  {
   "cell_type": "code",
   "execution_count": 6,
   "id": "essential-polymer",
   "metadata": {
    "scrolled": true
   },
   "outputs": [
    {
     "name": "stdout",
     "output_type": "stream",
     "text": [
      "start training arousal model.....\n",
      "total epochs: 5\n",
      "epoch:1 batch:1\n",
      "epoch:1 batch:2\n",
      "epoch:1 batch:3\n",
      "epoch:1 batch:4\n",
      "epoch:1 batch:5\n",
      "epoch:1 batch:6\n",
      "epoch:1 batch:7\n",
      "epoch:1 batch:8\n",
      "epoch:1 batch:9\n",
      "epoch:1 batch:10\n",
      "epoch:1 batch:11\n",
      "epoch:1 batch:12\n",
      "epoch:1 batch:13\n",
      "epoch:1 batch:14\n",
      "epoch:1 batch:15\n",
      "epoch:1 batch:16\n",
      "epoch:1 batch:17\n",
      "epoch:1 batch:18\n",
      "epoch:1 batch:19\n",
      "epoch:1 batch:20\n",
      "epoch:1 batch:21\n",
      "epoch:1 batch:22\n",
      "epoch:1 batch:23\n",
      "epoch:1 batch:24\n",
      "epoch:1 batch:25\n",
      "Epoch: 1/5 -  Time: 2021-05-03 20:09:57.819996+08:00  Training Loss: 0.114 -  Validation Loss: 0.048 - \n",
      "epoch:2 batch:1\n",
      "epoch:2 batch:2\n",
      "epoch:2 batch:3\n",
      "epoch:2 batch:4\n",
      "epoch:2 batch:5\n",
      "epoch:2 batch:6\n",
      "epoch:2 batch:7\n",
      "epoch:2 batch:8\n",
      "epoch:2 batch:9\n",
      "epoch:2 batch:10\n",
      "epoch:2 batch:11\n",
      "epoch:2 batch:12\n",
      "epoch:2 batch:13\n",
      "epoch:2 batch:14\n",
      "epoch:2 batch:15\n",
      "epoch:2 batch:16\n",
      "epoch:2 batch:17\n",
      "epoch:2 batch:18\n",
      "epoch:2 batch:19\n",
      "epoch:2 batch:20\n",
      "epoch:2 batch:21\n",
      "epoch:2 batch:22\n",
      "epoch:2 batch:23\n",
      "epoch:2 batch:24\n",
      "epoch:2 batch:25\n",
      "Epoch: 2/5 -  Time: 2021-05-03 20:16:11.068996+08:00  Training Loss: 0.078 -  Validation Loss: 0.038 - \n",
      "epoch:3 batch:1\n",
      "epoch:3 batch:2\n",
      "epoch:3 batch:3\n",
      "epoch:3 batch:4\n",
      "epoch:3 batch:5\n",
      "epoch:3 batch:6\n",
      "epoch:3 batch:7\n",
      "epoch:3 batch:8\n",
      "epoch:3 batch:9\n",
      "epoch:3 batch:10\n",
      "epoch:3 batch:11\n",
      "epoch:3 batch:12\n",
      "epoch:3 batch:13\n",
      "epoch:3 batch:14\n",
      "epoch:3 batch:15\n",
      "epoch:3 batch:16\n",
      "epoch:3 batch:17\n",
      "epoch:3 batch:18\n",
      "epoch:3 batch:19\n",
      "epoch:3 batch:20\n",
      "epoch:3 batch:21\n",
      "epoch:3 batch:22\n",
      "epoch:3 batch:23\n",
      "epoch:3 batch:24\n",
      "epoch:3 batch:25\n",
      "Epoch: 3/5 -  Time: 2021-05-03 20:22:27.058996+08:00  Training Loss: 0.071 -  Validation Loss: 0.040 - \n",
      "epoch:4 batch:1\n",
      "epoch:4 batch:2\n",
      "epoch:4 batch:3\n",
      "epoch:4 batch:4\n",
      "epoch:4 batch:5\n",
      "epoch:4 batch:6\n",
      "epoch:4 batch:7\n",
      "epoch:4 batch:8\n",
      "epoch:4 batch:9\n",
      "epoch:4 batch:10\n",
      "epoch:4 batch:11\n",
      "epoch:4 batch:12\n",
      "epoch:4 batch:13\n",
      "epoch:4 batch:14\n",
      "epoch:4 batch:15\n",
      "epoch:4 batch:16\n",
      "epoch:4 batch:17\n",
      "epoch:4 batch:18\n",
      "epoch:4 batch:19\n",
      "epoch:4 batch:20\n",
      "epoch:4 batch:21\n",
      "epoch:4 batch:22\n",
      "epoch:4 batch:23\n",
      "epoch:4 batch:24\n",
      "epoch:4 batch:25\n",
      "Epoch: 4/5 -  Time: 2021-05-03 20:28:33.886996+08:00  Training Loss: 0.070 -  Validation Loss: 0.044 - \n",
      "epoch:5 batch:1\n",
      "epoch:5 batch:2\n",
      "epoch:5 batch:3\n",
      "epoch:5 batch:4\n",
      "epoch:5 batch:5\n",
      "epoch:5 batch:6\n",
      "epoch:5 batch:7\n",
      "epoch:5 batch:8\n",
      "epoch:5 batch:9\n",
      "epoch:5 batch:10\n",
      "epoch:5 batch:11\n",
      "epoch:5 batch:12\n",
      "epoch:5 batch:13\n",
      "epoch:5 batch:14\n",
      "epoch:5 batch:15\n",
      "epoch:5 batch:16\n",
      "epoch:5 batch:17\n",
      "epoch:5 batch:18\n",
      "epoch:5 batch:19\n",
      "epoch:5 batch:20\n",
      "epoch:5 batch:21\n",
      "epoch:5 batch:22\n",
      "epoch:5 batch:23\n",
      "epoch:5 batch:24\n",
      "epoch:5 batch:25\n",
      "Epoch: 5/5 -  Time: 2021-05-03 20:34:40.779995+08:00  Training Loss: 0.070 -  Validation Loss: 0.044 - \n",
      "model: arousal - epochs: 5\n",
      "Run time: 31.163 min\n"
     ]
    }
   ],
   "source": [
    "arousal_model, train_loss_arousal, val_loss_arousal = train_arousal(model=model_arousal,train_loader=train_loader,val_loader=val_loader, n_epochs=epoch,lr=lr, save_path=arousal_path)"
   ]
  },
  {
   "cell_type": "code",
   "execution_count": 1,
   "id": "incorporated-gasoline",
   "metadata": {},
   "outputs": [
    {
     "ename": "NameError",
     "evalue": "name 'train_valence' is not defined",
     "output_type": "error",
     "traceback": [
      "\u001b[1;31m---------------------------------------------------------------------------\u001b[0m",
      "\u001b[1;31mNameError\u001b[0m                                 Traceback (most recent call last)",
      "\u001b[1;32m<ipython-input-1-9051d7e37530>\u001b[0m in \u001b[0;36m<module>\u001b[1;34m\u001b[0m\n\u001b[1;32m----> 1\u001b[1;33m \u001b[0mvalence_model\u001b[0m\u001b[1;33m,\u001b[0m \u001b[0mtrain_loss_valence\u001b[0m\u001b[1;33m,\u001b[0m \u001b[0mval_loss_valence\u001b[0m \u001b[1;33m=\u001b[0m \u001b[0mtrain_valence\u001b[0m\u001b[1;33m(\u001b[0m\u001b[0mmodel\u001b[0m\u001b[1;33m=\u001b[0m\u001b[0mmodel_valence\u001b[0m\u001b[1;33m,\u001b[0m\u001b[0mtrain_loader\u001b[0m\u001b[1;33m=\u001b[0m\u001b[0mtrain_loader\u001b[0m\u001b[1;33m,\u001b[0m\u001b[0mval_loader\u001b[0m\u001b[1;33m=\u001b[0m\u001b[0mval_loader\u001b[0m\u001b[1;33m,\u001b[0m \u001b[0mn_epochs\u001b[0m\u001b[1;33m=\u001b[0m\u001b[0mepoch\u001b[0m\u001b[1;33m,\u001b[0m\u001b[0mlr\u001b[0m\u001b[1;33m=\u001b[0m\u001b[0mlr\u001b[0m\u001b[1;33m,\u001b[0m \u001b[0msave_path\u001b[0m\u001b[1;33m=\u001b[0m\u001b[0mvalence_path\u001b[0m\u001b[1;33m)\u001b[0m\u001b[1;33m\u001b[0m\u001b[1;33m\u001b[0m\u001b[0m\n\u001b[0m",
      "\u001b[1;31mNameError\u001b[0m: name 'train_valence' is not defined"
     ]
    }
   ],
   "source": [
    "valence_model, train_loss_valence, val_loss_valence = train_valence(model=model_valence,train_loader=train_loader,val_loader=val_loader, n_epochs=epoch,lr=lr, save_path=valence_path)"
   ]
  },
  {
   "cell_type": "code",
   "execution_count": null,
   "id": "complimentary-mistress",
   "metadata": {},
   "outputs": [],
   "source": [
    "plot_curves(arousal_name,epoch,train_loss_arousal,val_loss_arousal)"
   ]
  },
  {
   "cell_type": "code",
   "execution_count": null,
   "id": "lasting-center",
   "metadata": {},
   "outputs": [],
   "source": [
    "plot_curves(valence_name,epoch,train_loss_valence,val_loss_valence)"
   ]
  },
  {
   "cell_type": "code",
   "execution_count": null,
   "id": "handy-philip",
   "metadata": {},
   "outputs": [],
   "source": [
    "# reloading model from local \n",
    "return_model_arousal = load_model(CnnGru(features,num_layers,hidden_size,batch_size),path=arousal_path).to(device)"
   ]
  },
  {
   "cell_type": "code",
   "execution_count": null,
   "id": "american-visiting",
   "metadata": {},
   "outputs": [],
   "source": [
    "return_model_valence = load_model(CnnGru(features,num_layers,hidden_size,batch_size),path=valence_path).to(device)"
   ]
  },
  {
   "cell_type": "code",
   "execution_count": null,
   "id": "alike-subcommittee",
   "metadata": {},
   "outputs": [],
   "source": [
    "dataiter = iter(test_loader)\n",
    "frame, arousal, valence, video_name = dataiter.next()"
   ]
  },
  {
   "cell_type": "code",
   "execution_count": null,
   "id": "interracial-bobby",
   "metadata": {},
   "outputs": [],
   "source": [
    "print(a)"
   ]
  },
  {
   "cell_type": "code",
   "execution_count": null,
   "id": "anonymous-september",
   "metadata": {},
   "outputs": [],
   "source": [
    "frame = frame.to(device)\n",
    "predicted  = predict_video(return_model_arousal,f)"
   ]
  },
  {
   "cell_type": "code",
   "execution_count": null,
   "id": "invalid-biography",
   "metadata": {},
   "outputs": [],
   "source": [
    "print(p)"
   ]
  }
 ],
 "metadata": {
  "kernelspec": {
   "display_name": "Python 3",
   "language": "python",
   "name": "python3"
  },
  "language_info": {
   "codemirror_mode": {
    "name": "ipython",
    "version": 3
   },
   "file_extension": ".py",
   "mimetype": "text/x-python",
   "name": "python",
   "nbconvert_exporter": "python",
   "pygments_lexer": "ipython3",
   "version": "3.8.6"
  }
 },
 "nbformat": 4,
 "nbformat_minor": 5
}
